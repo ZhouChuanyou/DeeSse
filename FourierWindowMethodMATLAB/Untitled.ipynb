{
 "cells": [
  {
   "cell_type": "code",
   "execution_count": 1,
   "metadata": {
    "collapsed": true
   },
   "outputs": [],
   "source": [
    "%matplotlib inline"
   ]
  },
  {
   "cell_type": "code",
   "execution_count": 187,
   "metadata": {
    "collapsed": false
   },
   "outputs": [],
   "source": [
    "# import \n",
    "import matplotlib.pylab as plt\n",
    "import numpy as np\n",
    "import pandas as pd\n",
    "import scipy as sp\n",
    "from  numpy.fft import fft2, fftshift"
   ]
  },
  {
   "cell_type": "code",
   "execution_count": 188,
   "metadata": {
    "collapsed": false
   },
   "outputs": [],
   "source": [
    "image = np.flipud(plt.imread('ExamplePattern2.tiff'))"
   ]
  },
  {
   "cell_type": "code",
   "execution_count": 43,
   "metadata": {
    "collapsed": false
   },
   "outputs": [],
   "source": [
    "params = {'w' : 60,\n",
    "          'dL' : 10,\n",
    "          'minL' : 5, \n",
    "          'maxL' : 18}\n",
    "\n",
    "params = pd.Series(params)"
   ]
  },
  {
   "cell_type": "code",
   "execution_count": 44,
   "metadata": {
    "collapsed": false
   },
   "outputs": [
    {
     "data": {
      "text/plain": [
       "dL      10\n",
       "maxL    18\n",
       "minL     5\n",
       "w       60\n",
       "dtype: int64"
      ]
     },
     "execution_count": 44,
     "metadata": {},
     "output_type": "execute_result"
    }
   ],
   "source": [
    "params"
   ]
  },
  {
   "cell_type": "code",
   "execution_count": 45,
   "metadata": {
    "collapsed": false
   },
   "outputs": [],
   "source": [
    "\n",
    "params['M'] = (image.shape[0] - params['w'])/params['dL'] + 1  # number of rows in window array\n",
    "params['N'] = (image.shape[1] - params['w'])/params['dL'] + 1 # number of columns in window array\n",
    "params['O'] = params['M']+params['w']/params['dL']-1 # M+w/dL-1; number of row steps in the image\n",
    "params['P'] = params['N']+params['w']/params['dL']-1; #  N+w/dL-1; number of column steps in the image\n",
    "# params.n = params.w/params.dL; %w/dL; number of steps in a window\n"
   ]
  },
  {
   "cell_type": "code",
   "execution_count": 46,
   "metadata": {
    "collapsed": false
   },
   "outputs": [],
   "source": [
    "image = np.array(image, dtype =  float)"
   ]
  },
  {
   "cell_type": "code",
   "execution_count": 47,
   "metadata": {
    "collapsed": false
   },
   "outputs": [],
   "source": [
    "import time\n",
    "start_time = time.time()"
   ]
  },
  {
   "cell_type": "code",
   "execution_count": 48,
   "metadata": {
    "collapsed": true
   },
   "outputs": [],
   "source": [
    "# [Lwin,Dwin] = LPPwindow(image,params,i,j); %calculate properties of the window"
   ]
  },
  {
   "cell_type": "code",
   "execution_count": 49,
   "metadata": {
    "collapsed": true
   },
   "outputs": [],
   "source": [
    "w = params['w']\n",
    "dL = params['dL']\n",
    "minL = params['minL']\n",
    "maxL = params['maxL']"
   ]
  },
  {
   "cell_type": "code",
   "execution_count": 50,
   "metadata": {
    "collapsed": true
   },
   "outputs": [],
   "source": [
    "i = 1\n",
    "j = 1"
   ]
  },
  {
   "cell_type": "code",
   "execution_count": 51,
   "metadata": {
    "collapsed": false
   },
   "outputs": [],
   "source": [
    "#  LLPwindow\n",
    "# get power spectrum\n",
    "im_hold = image[dL*(i-1):dL*(i-1)+w,dL*(j-1):dL*(j-1)+w] #retrieve the window\n",
    "image_window = im_hold - np.mean(im_hold) # subtract the mean from the window\n",
    "imfft = fftshift(fft2(image_window))\n",
    "fftpower = abs(imfft)**2\n",
    "\n",
    "# Find radial total power and angular average power\n",
    "\n",
    "# note: image must be square\n",
    "mindim = min(fftpower.shape)\n",
    "fmin_index = mindim/1./maxL  # minimum allowable frequency\n",
    "fmax_index = mindim/1./minL  # maximum allowable frequency\n",
    "\n",
    "dimy = fftpower.shape[0]\n",
    "dimx = fftpower.shape[1]"
   ]
  },
  {
   "cell_type": "code",
   "execution_count": 126,
   "metadata": {
    "collapsed": false
   },
   "outputs": [],
   "source": [
    "x = np.arange(-dimx/2., dimx/2.)\n",
    "y = np.arange(-dimy/2., dimy/2.)"
   ]
  },
  {
   "cell_type": "code",
   "execution_count": 144,
   "metadata": {
    "collapsed": false
   },
   "outputs": [],
   "source": [
    "[X,Y] = np.meshgrid(x, y)\n",
    "aa = np.arctan(Y/X)\n",
    "aa[X<0] = aa[X<0] + np.pi\n",
    "aa[aa<0] = aa[aa<0] + 2*np.pi # grid of angles 0 to 2pi\n",
    "rr = np.sqrt(X**2 + Y**2)    # grid of radii\n",
    "\n",
    "rtol = 1.5 #  rtol is the tolerance for a specified radius (frequency) it is needed to smooth the results due to the binning of the power spectrum. the radial increment is 1.\n",
    "dtol = np.pi/16 # dth is the tolerance on the angle. or 2*dtol is the width of the sliver. it is also the width of the angle increment\n",
    "\n"
   ]
  },
  {
   "cell_type": "code",
   "execution_count": 145,
   "metadata": {
    "collapsed": false
   },
   "outputs": [],
   "source": [
    "theta = np.arange( dtol, np.pi+dtol, dtol)"
   ]
  },
  {
   "cell_type": "code",
   "execution_count": 148,
   "metadata": {
    "collapsed": false
   },
   "outputs": [],
   "source": [
    "# DETERMINE ANGULAR AVERAGE POWER\n",
    "pow_avg_th = np.zeros(theta.shape)\n",
    "for k in range(len(theta)): # iterate from zero to pi\n",
    "    # find points that lie within sliver\n",
    "    index = (aa >= theta[k]-dtol) &  (aa  < theta[k]+dtol) & (rr >= fmin_index) & (rr <= fmax_index)\n",
    "    pts_th = fftpower[index]\n",
    "    pow_avg_th[k] = np.mean(pts_th)\n",
    "\n"
   ]
  },
  {
   "cell_type": "code",
   "execution_count": 162,
   "metadata": {
    "collapsed": false
   },
   "outputs": [],
   "source": [
    "pow_tot_r = np.zeros(radii.shape)\n",
    "pow_a_r = np.zeros(radii.shape)\n",
    "\n",
    "# DETERMINE RADIAL TOTAL POWER\n",
    "radii = np.arange(np.ceil(fmin_index)-1,np.floor(fmax_index)+1+1) # NOTE: 1 extra point on each side\n",
    "for r in range(len(radii)):\n",
    "    index = (rr < radii[r]+rtol) & (rr >= radii[r]-rtol)\n",
    "    pts_r = fftpower[index]\n",
    "    pow_tot_r[r] = np.sum(pts_r) #mean(pts_r);\n",
    "    pow_a_r[r] = np.mean(pts_r)\n",
    "\n"
   ]
  },
  {
   "cell_type": "code",
   "execution_count": 178,
   "metadata": {
    "collapsed": false
   },
   "outputs": [],
   "source": [
    "#  CHECK FOR VALID WINDOW\n",
    "#  Check to ensure that each window has exactly 1 radial and angular power maximum\n",
    "valid_window =  (len(pow_tot_r[np.max(pow_tot_r) == pow_tot_r]) == 1) & \\\n",
    "                (len(pow_avg_th[np.max(pow_avg_th) == pow_avg_th]) == 1 ) "
   ]
  },
  {
   "cell_type": "code",
   "execution_count": 179,
   "metadata": {
    "collapsed": false
   },
   "outputs": [
    {
     "data": {
      "text/plain": [
       "True"
      ]
     },
     "execution_count": 179,
     "metadata": {},
     "output_type": "execute_result"
    }
   ],
   "source": [
    "# if valid_window\n",
    "#  CALCULATE WAVELENGTH, DIRECTION, UNIQUENESS, MEAN & MAX POWER\n",
    "#  [th_a,r_t] = FFTcalcs(fftpower,pow_avg_th,pow_tot_r,radii,theta,minL,maxL);\n",
    "# MAX THETA AND R\n",
    "th_a.th_indmax = find(max(pow_avg_th) == pow_avg_th);\n",
    "th_a.th_max = theta(th_a.th_indmax); %theta max\n",
    "r_t.r_indmax = find(max(pow_tot_r) == pow_tot_r);\n",
    "r_t.r_max = radii(r_t.r_indmax); % r max\n"
   ]
  },
  {
   "cell_type": "code",
   "execution_count": 184,
   "metadata": {
    "collapsed": false
   },
   "outputs": [
    {
     "data": {
      "text/plain": [
       "array([False, False, False, False, False, False, False, False, False,\n",
       "       False,  True, False, False, False, False, False], dtype=bool)"
      ]
     },
     "execution_count": 184,
     "metadata": {},
     "output_type": "execute_result"
    }
   ],
   "source": [
    "max(pow_avg_th) == pow_avg_th"
   ]
  },
  {
   "cell_type": "code",
   "execution_count": 185,
   "metadata": {
    "collapsed": false
   },
   "outputs": [
    {
     "data": {
      "text/plain": [
       "(60, 60)"
      ]
     },
     "execution_count": 185,
     "metadata": {},
     "output_type": "execute_result"
    }
   ],
   "source": [
    "im_hold.shape"
   ]
  },
  {
   "cell_type": "code",
   "execution_count": 190,
   "metadata": {
    "collapsed": false
   },
   "outputs": [
    {
     "data": {
      "text/plain": [
       "<matplotlib.colorbar.Colorbar at 0x11ca49b10>"
      ]
     },
     "execution_count": 190,
     "metadata": {},
     "output_type": "execute_result"
    },
    {
     "data": {
      "image/png": "[encoded data removed]",
      "text/plain": [
       "<matplotlib.figure.Figure at 0x11c76c850>"
      ]
     },
     "metadata": {},
     "output_type": "display_data"
    }
   ],
   "source": [
    "plt.imshow(image, cmap = 'Blues', interpolation='none')\n",
    "plt.colorbar()"
   ]
  },
  {
   "cell_type": "code",
   "execution_count": null,
   "metadata": {
    "collapsed": false
   },
   "outputs": [],
   "source": []
  },
  {
   "cell_type": "markdown",
   "metadata": {
    "collapsed": true
   },
   "source": [
    "\n"
   ]
  }
 ],
 "metadata": {
  "anaconda-cloud": {},
  "kernelspec": {
   "display_name": "Python [default]",
   "language": "python",
   "name": "python2"
  },
  "language_info": {
   "codemirror_mode": {
    "name": "ipython",
    "version": 2
   },
   "file_extension": ".py",
   "mimetype": "text/x-python",
   "name": "python",
   "nbconvert_exporter": "python",
   "pygments_lexer": "ipython2",
   "version": "2.7.12"
  }
 },
 "nbformat": 4,
 "nbformat_minor": 1
}
