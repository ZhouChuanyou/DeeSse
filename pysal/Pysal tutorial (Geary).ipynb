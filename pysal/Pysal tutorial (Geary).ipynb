{
 "cells": [
  {
   "cell_type": "markdown",
   "metadata": {},
   "source": [
    "\n",
    "$$C=\\frac{(n-1)}{2S_0} \\sum_i\\sum_j w_{i,j} (y_i-y_j)^2 / \\sum_i z_i^2$$\n",
    "\n",
    "where  $w_{i,j}$ is a spatial weight\n",
    "$z_i = y_i - \\bar{y}$, and \n",
    "$S_0=\\sum_i\\sum_j w_{i,j}$."
   ]
  },
  {
   "cell_type": "code",
   "execution_count": null,
   "metadata": {
    "collapsed": true
   },
   "outputs": [],
   "source": []
  }
 ],
 "metadata": {
  "anaconda-cloud": {},
  "kernelspec": {
   "display_name": "Python [conda root]",
   "language": "python",
   "name": "conda-root-py"
  },
  "language_info": {
   "codemirror_mode": {
    "name": "ipython",
    "version": 2
   },
   "file_extension": ".py",
   "mimetype": "text/x-python",
   "name": "python",
   "nbconvert_exporter": "python",
   "pygments_lexer": "ipython2",
   "version": "2.7.12"
  }
 },
 "nbformat": 4,
 "nbformat_minor": 1
}
