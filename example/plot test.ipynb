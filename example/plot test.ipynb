{
 "cells": [
  {
   "cell_type": "code",
   "execution_count": 154,
   "metadata": {
    "collapsed": true
   },
   "outputs": [],
   "source": [
    "%matplotlib inline"
   ]
  },
  {
   "cell_type": "code",
   "execution_count": 155,
   "metadata": {
    "collapsed": true
   },
   "outputs": [],
   "source": [
    "if True: \n",
    "    import matplotlib.pylab as plt\n",
    "    import numpy as np\n",
    "    \n"
   ]
  },
  {
   "cell_type": "code",
   "execution_count": 176,
   "metadata": {
    "collapsed": true
   },
   "outputs": [],
   "source": [
    "def openfile(fname):\n",
    "    f =  open(fname, 'r')\n",
    "\n",
    "    line = f.next()\n",
    "    a = (line.strip().split(\" \"))\n",
    "    a = [b for b in a if b]\n",
    "\n",
    "    Nx = int(a[0])\n",
    "    Ny = int(a[1])\n",
    "    Nz = int(a[2])\n",
    "\n",
    "    Sx = float(a[3])\n",
    "    Sy = float(a[4])\n",
    "    Sz = float(a[5])\n",
    "\n",
    "    Ox = float(a[6])\n",
    "    Oy = float(a[7])\n",
    "    Oz = float(a[8])\n",
    "\n",
    "    line = f.next()\n",
    "    a = (line.strip().split(\" \"))\n",
    "    a = [b for b in a if b]\n",
    "    nvar = int(a[0])\n",
    "\n",
    "    line = f.next()\n",
    "    a = (line.strip().split(\" \"))\n",
    "    a = [b for b in a if b]\n",
    "    name_of_variable_1 = (a[0])\n",
    "    print name_of_variable_1,\n",
    "    \n",
    "    facies = np.zeros([Nx, Ny])\n",
    "    for i in range(Ny):\n",
    "        for j in range(Nx):\n",
    "            facies[i, j] = int(f.next().split()[0])\n",
    "            \n",
    "    return facies, Nx, Ny"
   ]
  },
  {
   "cell_type": "code",
   "execution_count": 177,
   "metadata": {
    "collapsed": false
   },
   "outputs": [
    {
     "name": "stdout",
     "output_type": "stream",
     "text": [
      "facies\n"
     ]
    }
   ],
   "source": [
    "facies, nx,ny = openfile(\"ti.gslib\")"
   ]
  },
  {
   "cell_type": "code",
   "execution_count": 178,
   "metadata": {
    "collapsed": false,
    "scrolled": true
   },
   "outputs": [
    {
     "name": "stdout",
     "output_type": "stream",
     "text": [
      "facies_real00000\n"
     ]
    }
   ],
   "source": [
    "test_real00000 ,  nx, ny = openfile(\"test_real00000.gslib\")"
   ]
  },
  {
   "cell_type": "code",
   "execution_count": 179,
   "metadata": {
    "collapsed": true
   },
   "outputs": [],
   "source": [
    "nx=  50\n",
    "ny = 50\n",
    "\n",
    "facies = facies[:nx, :ny]\n",
    "test_real00000 = test_real00000[:nx, :ny]"
   ]
  },
  {
   "cell_type": "code",
   "execution_count": 180,
   "metadata": {
    "collapsed": false
   },
   "outputs": [
    {
     "data": {
      "text/plain": [
       "<matplotlib.image.AxesImage at 0x13b7a5310>"
      ]
     },
     "execution_count": 180,
     "metadata": {},
     "output_type": "execute_result"
    },
    {
     "data": {
      "image/png": "[encoded data removed]",
      "text/plain": [
       "<matplotlib.figure.Figure at 0x13bff2d90>"
      ]
     },
     "metadata": {},
     "output_type": "display_data"
    }
   ],
   "source": [
    "fig = plt.figure(figsize = (9,4))\n",
    "ax = fig.add_subplot(121)\n",
    "plt.imshow(facies, interpolation='none')\n",
    "ax = fig.add_subplot(122)\n",
    "plt.imshow(test_real00000, interpolation='none')"
   ]
  },
  {
   "cell_type": "code",
   "execution_count": 181,
   "metadata": {
    "collapsed": true
   },
   "outputs": [],
   "source": [
    "import pysal\n",
    "import numpy as np\n",
    "np.random.seed(12345)\n",
    "import time\n",
    "\n",
    "from pysal.esda.getisord import G"
   ]
  },
  {
   "cell_type": "code",
   "execution_count": 182,
   "metadata": {
    "collapsed": false
   },
   "outputs": [
    {
     "name": "stdout",
     "output_type": "stream",
     "text": [
      "0.0263559818268\n"
     ]
    }
   ],
   "source": [
    "x,y=np.indices((nx,ny))\n",
    "x.shape=(nx**2,1)\n",
    "y.shape=(ny**2,1)\n",
    "data=np.hstack([x,y])\n",
    "\n",
    "# wg = pysal.Kernel(data, fixed = False, function = 'gaussian')\n",
    "# wknn = pysal.knnW(data, k =4)\n",
    "\n",
    "start_time = time.time()\n",
    "wthresh = pysal.threshold_binaryW_from_array(data, 1)\n",
    "print time.time() - start_time\n"
   ]
  },
  {
   "cell_type": "code",
   "execution_count": 196,
   "metadata": {
    "collapsed": false
   },
   "outputs": [
    {
     "name": "stdout",
     "output_type": "stream",
     "text": [
      "Time elapsed 0.16s\n",
      "Getis and Ord’s G : 0.0075, (z_sim=61.4643, p_z_sim=0.0010) \n"
     ]
    }
   ],
   "source": [
    "start_time = time.time()\n",
    "g = G(facies, wthresh)\n",
    "print \"Time elapsed {0:.2f}s\".format(time.time() - start_time)\n",
    "print \"Getis and Ord’s G : {0:.4f}, (z_sim={1:.4f}, p_z_sim={2:.4f}) \".format( g.G,\n",
    "            g.z_sim, g.p_sim)\n",
    "\n",
    "Gi = g.G"
   ]
  },
  {
   "cell_type": "code",
   "execution_count": 197,
   "metadata": {
    "collapsed": false
   },
   "outputs": [],
   "source": [
    "import os\n",
    "path = '.'\n",
    "files = [i for i in os.listdir(path) if os.path.isfile(os.path.join(path,i)) and \\\n",
    "         'test_real' in i]"
   ]
  },
  {
   "cell_type": "code",
   "execution_count": 198,
   "metadata": {
    "collapsed": false
   },
   "outputs": [
    {
     "name": "stdout",
     "output_type": "stream",
     "text": [
      "facies_real00000 facies_real00001 facies_real00002 facies_real00003 facies_real00004\n"
     ]
    }
   ],
   "source": [
    "testfiles = []\n",
    "for testfile in files:\n",
    "    test,  _, _ = openfile(testfile)\n",
    "    testfiles.append(test[:nx, :ny])"
   ]
  },
  {
   "cell_type": "code",
   "execution_count": 207,
   "metadata": {
    "collapsed": false
   },
   "outputs": [
    {
     "name": "stdout",
     "output_type": "stream",
     "text": [
      "Getis and Ord’s G : 0.0083, (z_sim=63.6477, p_z_sim=0.0010) \n",
      "Getis and Ord’s G : 0.0048, (z_sim=63.0048, p_z_sim=0.0010) \n",
      "Getis and Ord’s G : 0.0076, (z_sim=63.2750, p_z_sim=0.0010) \n",
      "Getis and Ord’s G : 0.0060, (z_sim=59.6661, p_z_sim=0.0010) \n",
      "Getis and Ord’s G : 0.0050, (z_sim=60.5073, p_z_sim=0.0010) \n",
      "Time elapsed 0.84s\n"
     ]
    }
   ],
   "source": [
    "\n",
    "start_time = time.time()\n",
    "gs = []\n",
    "for testfile in testfiles:   \n",
    "    g = G(testfile[:nx, :ny], wthresh)\n",
    "    print \"Getis and Ord’s G : {0:.4f}, (z_sim={1:.4f}, p_z_sim={2:.4f}) \".format( g.G,\n",
    "                g.z_sim, g.p_sim)\n",
    "    gs.append(g.G)\n",
    "print \"Time elapsed {0:.2f}s\".format(time.time() - start_time)"
   ]
  },
  {
   "cell_type": "code",
   "execution_count": 205,
   "metadata": {
    "collapsed": true
   },
   "outputs": [],
   "source": [
    "gs.append(Gi)"
   ]
  },
  {
   "cell_type": "code",
   "execution_count": 208,
   "metadata": {
    "collapsed": false
   },
   "outputs": [
    {
     "data": {
      "text/plain": [
       "(array([ 2.,  0.,  0.,  1.,  0.,  0.,  0.,  1.,  0.,  1.]),\n",
       " array([ 0.00481709,  0.00516262,  0.00550814,  0.00585367,  0.00619919,\n",
       "         0.00654472,  0.00689024,  0.00723577,  0.0075813 ,  0.00792682,\n",
       "         0.00827235]),\n",
       " <a list of 10 Patch objects>)"
      ]
     },
     "execution_count": 208,
     "metadata": {},
     "output_type": "execute_result"
    },
    {
     "data": {
      "image/png": "[encoded data removed]",
      "text/plain": [
       "<matplotlib.figure.Figure at 0x13df9ba90>"
      ]
     },
     "metadata": {},
     "output_type": "display_data"
    }
   ],
   "source": [
    "plt.hist(gs)"
   ]
  },
  {
   "cell_type": "code",
   "execution_count": null,
   "metadata": {
    "collapsed": true
   },
   "outputs": [],
   "source": []
  }
 ],
 "metadata": {
  "anaconda-cloud": {},
  "kernelspec": {
   "display_name": "Python [conda root]",
   "language": "python",
   "name": "conda-root-py"
  },
  "language_info": {
   "codemirror_mode": {
    "name": "ipython",
    "version": 2
   },
   "file_extension": ".py",
   "mimetype": "text/x-python",
   "name": "python",
   "nbconvert_exporter": "python",
   "pygments_lexer": "ipython2",
   "version": "2.7.12"
  }
 },
 "nbformat": 4,
 "nbformat_minor": 1
}
