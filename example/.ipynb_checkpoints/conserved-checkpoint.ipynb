{
 "cells": [
  {
   "cell_type": "code",
   "execution_count": 272,
   "metadata": {
    "collapsed": true
   },
   "outputs": [],
   "source": [
    "%matplotlib inline"
   ]
  },
  {
   "cell_type": "code",
   "execution_count": 394,
   "metadata": {
    "collapsed": true
   },
   "outputs": [],
   "source": [
    "if True: \n",
    "    import matplotlib.pylab as plt\n",
    "    import numpy as np\n",
    "    \n"
   ]
  },
  {
   "cell_type": "code",
   "execution_count": 395,
   "metadata": {
    "code_folding": [
     0
    ],
    "collapsed": true
   },
   "outputs": [],
   "source": [
    "def openfile(fname):\n",
    "    f =  open(fname, 'r')\n",
    "\n",
    "    line = f.next()\n",
    "    a = (line.strip().split(\" \"))\n",
    "    a = [b for b in a if b]\n",
    "\n",
    "    Nx = int(a[0])\n",
    "    Ny = int(a[1])\n",
    "    Nz = int(a[2])\n",
    "\n",
    "    Sx = float(a[3])\n",
    "    Sy = float(a[4])\n",
    "    Sz = float(a[5])\n",
    "\n",
    "    Ox = float(a[6])\n",
    "    Oy = float(a[7])\n",
    "    Oz = float(a[8])\n",
    "\n",
    "    line = f.next()\n",
    "    a = (line.strip().split(\" \"))\n",
    "    a = [b for b in a if b]\n",
    "    nvar = int(a[0])\n",
    "\n",
    "    line = f.next()\n",
    "    a = (line.strip().split(\" \"))\n",
    "    a = [b for b in a if b]\n",
    "    name_of_variable_1 = (a[0])\n",
    "    print name_of_variable_1,\n",
    "    \n",
    "    facies = np.zeros([Nx, Ny])\n",
    "    for i in range(Ny):\n",
    "        for j in range(Nx):\n",
    "            facies[i, j] = int(f.next().split()[0])\n",
    "            \n",
    "    return facies, Nx, Ny"
   ]
  },
  {
   "cell_type": "code",
   "execution_count": 396,
   "metadata": {
    "collapsed": false
   },
   "outputs": [
    {
     "name": "stdout",
     "output_type": "stream",
     "text": [
      "facies\n"
     ]
    }
   ],
   "source": [
    "facies, nx,ny = openfile(\"ti.gslib\")"
   ]
  },
  {
   "cell_type": "code",
   "execution_count": 397,
   "metadata": {
    "collapsed": false,
    "scrolled": true
   },
   "outputs": [
    {
     "name": "stdout",
     "output_type": "stream",
     "text": [
      "facies_real00000\n"
     ]
    }
   ],
   "source": [
    "test_real00000 ,  nx, ny = openfile(\"test_real00000.gslib\")"
   ]
  },
  {
   "cell_type": "code",
   "execution_count": 398,
   "metadata": {
    "collapsed": true
   },
   "outputs": [],
   "source": [
    "nx =  100\n",
    "ny = nx\n",
    "\n",
    "facies = facies[:nx, :ny]\n",
    "test_real00000 = test_real00000[:nx, :ny]"
   ]
  },
  {
   "cell_type": "code",
   "execution_count": 399,
   "metadata": {
    "collapsed": false
   },
   "outputs": [
    {
     "data": {
      "text/plain": [
       "<matplotlib.image.AxesImage at 0x143d39390>"
      ]
     },
     "execution_count": 399,
     "metadata": {},
     "output_type": "execute_result"
    },
    {
     "data": {
      "image/png": "[encoded data removed]",
      "text/plain": [
       "<matplotlib.figure.Figure at 0x141928190>"
      ]
     },
     "metadata": {},
     "output_type": "display_data"
    }
   ],
   "source": [
    "fig = plt.figure(figsize = (9,4))\n",
    "ax = fig.add_subplot(121)\n",
    "plt.imshow(facies, interpolation='none')\n",
    "ax = fig.add_subplot(122)\n",
    "plt.imshow(test_real00000, interpolation='none')"
   ]
  },
  {
   "cell_type": "code",
   "execution_count": 400,
   "metadata": {
    "collapsed": true
   },
   "outputs": [],
   "source": [
    "import pysal\n",
    "import numpy as np\n",
    "np.random.seed(12345)\n",
    "import time\n",
    "\n",
    "from pysal.esda.getisord import G\n",
    "from pysal import Moran"
   ]
  },
  {
   "cell_type": "code",
   "execution_count": 401,
   "metadata": {
    "collapsed": false
   },
   "outputs": [
    {
     "name": "stdout",
     "output_type": "stream",
     "text": [
      "0.283856153488\n"
     ]
    }
   ],
   "source": [
    "x,y=np.indices((nx,ny))\n",
    "x.shape=(nx**2,1)\n",
    "y.shape=(ny**2,1)\n",
    "data=np.hstack([x,y])\n",
    "\n",
    "\n",
    "start_time = time.time()\n",
    "# w = pysal.threshold_binaryW_from_array(data, 2)\n",
    "# w = pysal.threshold_continuousW_from_array(data, 3, alpha = -1)\n",
    "w = pysal.weights.Distance.DistanceBand(data, 2, binary = 'True')\n",
    "# w = pysal.Kernel(data, fixed = False, function = 'gaussian')\n",
    "print time.time() - start_time\n"
   ]
  },
  {
   "cell_type": "code",
   "execution_count": 402,
   "metadata": {
    "collapsed": false
   },
   "outputs": [
    {
     "name": "stdout",
     "output_type": "stream",
     "text": [
      "Getis and Ord’s G : 0.0040, (z_sim=195.0275, p_z_sim=0.0010) \n"
     ]
    }
   ],
   "source": [
    "start_time = time.time()\n",
    "g = G(facies, w)\n",
    "# print \"Time elapsed {0:.2f}s\".format(time.time() - start_time)\n",
    "print \"Getis and Ord’s G : {0:.4f}, (z_sim={1:.4f}, p_z_sim={2:.4f}) \".format( g.G,\n",
    "            g.z_sim, g.p_sim)\n",
    "\n",
    "Gi = g.G"
   ]
  },
  {
   "cell_type": "code",
   "execution_count": 403,
   "metadata": {
    "collapsed": false
   },
   "outputs": [
    {
     "name": "stdout",
     "output_type": "stream",
     "text": [
      "Moran's I: 0.8197, (z_sim=194.1499, p_z_sim=0.0010) \n"
     ]
    }
   ],
   "source": [
    "start_time = time.time()\n",
    "I = Moran(facies, w)\n",
    "# print \"Time elapsed {0:.2f}s\".format(time.time() - start_time)\n",
    "print \"Moran's I: {0:.4f}, (z_sim={1:.4f}, p_z_sim={2:.4f}) \".format( I.I,\n",
    "            I.z_sim, I.p_sim)\n",
    "\n",
    "Ii = I.I"
   ]
  },
  {
   "cell_type": "code",
   "execution_count": 404,
   "metadata": {
    "collapsed": false
   },
   "outputs": [],
   "source": [
    "import os\n",
    "path = '.'\n",
    "files = [i for i in os.listdir(path) if os.path.isfile(os.path.join(path,i)) and \\\n",
    "         'test_real' in i]"
   ]
  },
  {
   "cell_type": "code",
   "execution_count": null,
   "metadata": {
    "collapsed": false
   },
   "outputs": [
    {
     "name": "stdout",
     "output_type": "stream",
     "text": [
      "facies_real00000 facies_real00001 facies_real00002 facies_real00003 facies_real00004 facies_real00005 facies_real00006 facies_real00007 facies_real00008 facies_real00009 facies_real00010 facies_real00011 facies_real00012 facies_real00013 facies_real00014 facies_real00015 facies_real00016 facies_real00017 facies_real00018 facies_real00019\n"
     ]
    }
   ],
   "source": [
    "testfiles = []\n",
    "for testfile in files:\n",
    "    test,  _, _ = openfile(testfile)\n",
    "    testfiles.append(test[:nx, :ny])"
   ]
  },
  {
   "cell_type": "code",
   "execution_count": null,
   "metadata": {
    "collapsed": false
   },
   "outputs": [],
   "source": [
    "\n",
    "start_time = time.time()\n",
    "Gs = []\n",
    "count = []\n",
    "for testfile in testfiles:   \n",
    "    g = G(testfile[:nx, :ny], w)\n",
    "#     print \"Getis and Ord’s G : {0:.4f}, (z_sim={1:.4f}, p_z_sim={2:.4f}) \".format( g.G,\n",
    "#                 g.z_sim, g.p_sim)\n",
    "    Gs.append(g.G)\n",
    "    \n",
    "    count.append(np.sum(testfile[:nx, :ny]))\n",
    "print \"Time elapsed {0:.2f}s\".format(time.time() - start_time)"
   ]
  },
  {
   "cell_type": "code",
   "execution_count": null,
   "metadata": {
    "collapsed": false
   },
   "outputs": [],
   "source": [
    "start_time = time.time()\n",
    "Is = []\n",
    "count = []\n",
    "for testfile in testfiles:   \n",
    "    \n",
    "    I = Moran(testfile[:nx, :ny], w)\n",
    "#     print \"Moran's I: {0:.4f}, (z_sim={1:.4f}, p_z_sim={2:.4f}) \".format( I.I,\n",
    "#                 I.z_sim, I.p_sim)\n",
    "    Is.append(I.I)\n",
    "    \n",
    "    count.append(np.sum(testfile[:nx, :ny]))\n",
    "print \"Time elapsed {0:.2f}s\".format(time.time() - start_time)"
   ]
  },
  {
   "cell_type": "code",
   "execution_count": null,
   "metadata": {
    "collapsed": false
   },
   "outputs": [],
   "source": [
    "fig = plt.figure()\n",
    "plt.hist(Is)\n",
    "plt.title('Moran\\'s I = {0:.3} nx = {1}'.format(Ii, nx))\n",
    "printstr = 'I nx={1}; n={0}.pdf'.format(len(Is), nx)\n",
    "fig.savefig('conserved/{0}'.format(printstr))"
   ]
  },
  {
   "cell_type": "code",
   "execution_count": null,
   "metadata": {
    "collapsed": false
   },
   "outputs": [],
   "source": [
    "fig = plt.figure()\n",
    "plt.hist(count)\n",
    "plt.title('Count = {0:.0f};  nx = {1}'.format(np.sum(facies), nx))\n",
    "printstr = 'count nx={1}; n={0}.pdf'.format(len(count), nx)\n",
    "fig.savefig('conserved/{0}'.format(printstr))"
   ]
  },
  {
   "cell_type": "code",
   "execution_count": null,
   "metadata": {
    "collapsed": false
   },
   "outputs": [],
   "source": [
    "fig = plt.figure()\n",
    "plt.hist(Gs)\n",
    "plt.title('Getis and Ord\\'s G = {0:.3} nx = {1}'.format(Gi, nx))\n",
    "printstr = 'G nx={1}; n={0}.pdf'.format(len(Gs), nx)\n",
    "fig.savefig('conserved/{0}'.format(printstr))"
   ]
  },
  {
   "cell_type": "code",
   "execution_count": null,
   "metadata": {
    "collapsed": false,
    "scrolled": false
   },
   "outputs": [],
   "source": [
    "for i, testfile in enumerate(testfiles):\n",
    "    if np.mod(i, 2) == 0:\n",
    "        fig = plt.figure(figsize = (9,4))\n",
    "        ax = fig.add_subplot(121)\n",
    "        plt.imshow(testfile, interpolation='none')\n",
    "    elif np.mod(i, 2) == 1:\n",
    "        ax = fig.add_subplot(122)\n",
    "        plt.imshow(testfile, interpolation='none')"
   ]
  },
  {
   "cell_type": "code",
   "execution_count": null,
   "metadata": {
    "collapsed": true,
    "scrolled": true
   },
   "outputs": [],
   "source": []
  }
 ],
 "metadata": {
  "anaconda-cloud": {},
  "kernelspec": {
   "display_name": "Python [conda root]",
   "language": "python",
   "name": "conda-root-py"
  },
  "language_info": {
   "codemirror_mode": {
    "name": "ipython",
    "version": 2
   },
   "file_extension": ".py",
   "mimetype": "text/x-python",
   "name": "python",
   "nbconvert_exporter": "python",
   "pygments_lexer": "ipython2",
   "version": "2.7.12"
  }
 },
 "nbformat": 4,
 "nbformat_minor": 1
}
