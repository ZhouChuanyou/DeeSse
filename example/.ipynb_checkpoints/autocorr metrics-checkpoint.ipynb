{
 "cells": [
  {
   "cell_type": "code",
   "execution_count": 1,
   "metadata": {
    "collapsed": true
   },
   "outputs": [],
   "source": [
    "%matplotlib inline"
   ]
  },
  {
   "cell_type": "code",
   "execution_count": 2,
   "metadata": {
    "collapsed": true
   },
   "outputs": [],
   "source": [
    "if True: \n",
    "    import matplotlib.pylab as plt\n",
    "    import numpy as np\n",
    "    \n"
   ]
  },
  {
   "cell_type": "code",
   "execution_count": 3,
   "metadata": {
    "code_folding": [
     0
    ],
    "collapsed": true
   },
   "outputs": [],
   "source": [
    "def openfile(fname):\n",
    "    f =  open(fname, 'r')\n",
    "\n",
    "    line = f.next()\n",
    "    a = (line.strip().split(\" \"))\n",
    "    a = [b for b in a if b]\n",
    "\n",
    "    Nx = int(a[0])\n",
    "    Ny = int(a[1])\n",
    "    Nz = int(a[2])\n",
    "\n",
    "    Sx = float(a[3])\n",
    "    Sy = float(a[4])\n",
    "    Sz = float(a[5])\n",
    "\n",
    "    Ox = float(a[6])\n",
    "    Oy = float(a[7])\n",
    "    Oz = float(a[8])\n",
    "\n",
    "    line = f.next()\n",
    "    a = (line.strip().split(\" \"))\n",
    "    a = [b for b in a if b]\n",
    "    nvar = int(a[0])\n",
    "\n",
    "    line = f.next()\n",
    "    a = (line.strip().split(\" \"))\n",
    "    a = [b for b in a if b]\n",
    "    name_of_variable_1 = (a[0])\n",
    "    print name_of_variable_1,\n",
    "    \n",
    "    facies = np.zeros([Nx, Ny])\n",
    "    for i in range(Ny):\n",
    "        for j in range(Nx):\n",
    "            facies[i, j] = int(f.next().split()[0])\n",
    "            \n",
    "    return facies, Nx, Ny"
   ]
  },
  {
   "cell_type": "code",
   "execution_count": 4,
   "metadata": {
    "collapsed": false
   },
   "outputs": [
    {
     "name": "stdout",
     "output_type": "stream",
     "text": [
      "facies\n"
     ]
    }
   ],
   "source": [
    "TI, nx,ny = openfile(\"ti.gslib\")"
   ]
  },
  {
   "cell_type": "code",
   "execution_count": 5,
   "metadata": {
    "collapsed": false,
    "scrolled": true
   },
   "outputs": [
    {
     "name": "stdout",
     "output_type": "stream",
     "text": [
      "facies_real00000\n"
     ]
    }
   ],
   "source": [
    "test_real00000 ,  nx, ny = openfile(\"output/test_real00000.gslib\")"
   ]
  },
  {
   "cell_type": "code",
   "execution_count": 6,
   "metadata": {
    "collapsed": true
   },
   "outputs": [],
   "source": [
    "nx =  50\n",
    "ny = nx\n",
    "\n",
    "TI = TI[:nx, :ny]\n",
    "test_real00000 = test_real00000[:nx, :ny]"
   ]
  },
  {
   "cell_type": "code",
   "execution_count": 7,
   "metadata": {
    "collapsed": false
   },
   "outputs": [
    {
     "data": {
      "text/plain": [
       "<matplotlib.text.Text at 0x10f2a2a10>"
      ]
     },
     "execution_count": 7,
     "metadata": {},
     "output_type": "execute_result"
    },
    {
     "data": {
      "image/png": "[encoded data removed]",
      "text/plain": [
       "<matplotlib.figure.Figure at 0x10cc26e90>"
      ]
     },
     "metadata": {},
     "output_type": "display_data"
    }
   ],
   "source": [
    "fig = plt.figure(figsize = (9,4))\n",
    "ax = fig.add_subplot(121)\n",
    "plt.imshow(TI, interpolation='none', cmap = 'Blues')\n",
    "plt.title('Training')\n",
    "ax = fig.add_subplot(122)\n",
    "plt.imshow(test_real00000, interpolation='none', cmap = 'Blues')\n",
    "plt.title('Simulation')"
   ]
  },
  {
   "cell_type": "code",
   "execution_count": 8,
   "metadata": {
    "collapsed": true
   },
   "outputs": [],
   "source": [
    "import pysal\n",
    "import numpy as np\n",
    "np.random.seed(12345)\n",
    "import time\n",
    "\n",
    "from pysal.esda.getisord import G\n",
    "from pysal import Moran"
   ]
  },
  {
   "cell_type": "code",
   "execution_count": 9,
   "metadata": {
    "collapsed": true
   },
   "outputs": [],
   "source": [
    "# weight options:\n",
    "# w = pysal.threshold_binaryW_from_array(data, 2)\n",
    "# w = pysal.threshold_continuousW_from_array(data, 3, alpha = -1)\n",
    "# w = pysal.Kernel(data, fixed = False, function = 'gaussian')"
   ]
  },
  {
   "cell_type": "code",
   "execution_count": 10,
   "metadata": {
    "collapsed": false
   },
   "outputs": [
    {
     "name": "stdout",
     "output_type": "stream",
     "text": [
      "0.0276370048523\n"
     ]
    }
   ],
   "source": [
    "x,y=np.indices((nx,ny))\n",
    "x.shape=(nx**2,1)\n",
    "y.shape=(ny**2,1)\n",
    "data=np.hstack([x,y])\n",
    "\n",
    "start_time = time.time()\n",
    "w = pysal.weights.Distance.DistanceBand(data, 1, binary = 'True')\n",
    "print time.time() - start_time\n"
   ]
  },
  {
   "cell_type": "code",
   "execution_count": 11,
   "metadata": {
    "collapsed": false
   },
   "outputs": [
    {
     "name": "stdout",
     "output_type": "stream",
     "text": [
      "Getis and Ord’s G : 0.0075, (z_sim=62.7525, p_z_sim=0.0010) \n"
     ]
    }
   ],
   "source": [
    "start_time = time.time()\n",
    "g = G(TI, w)\n",
    "# print \"Time elapsed {0:.2f}s\".format(time.time() - start_time)\n",
    "print \"Getis and Ord’s G : {0:.4f}, (z_sim={1:.4f}, p_z_sim={2:.4f}) \".format( g.G,\n",
    "            g.z_sim, g.p_sim)\n",
    "\n",
    "Gi = g.G\n"
   ]
  },
  {
   "cell_type": "code",
   "execution_count": 12,
   "metadata": {
    "collapsed": false
   },
   "outputs": [
    {
     "name": "stdout",
     "output_type": "stream",
     "text": [
      "Moran's I: 0.8915, (z_sim=59.6532, p_z_sim=0.0010) \n"
     ]
    }
   ],
   "source": [
    "start_time = time.time()\n",
    "I = Moran(TI, w)\n",
    "# print \"Time elapsed {0:.2f}s\".format(time.time() - start_time)\n",
    "print \"Moran's I: {0:.4f}, (z_sim={1:.4f}, p_z_sim={2:.4f}) \".format( I.I,\n",
    "            I.z_sim, I.p_sim)\n",
    "\n",
    "Ii = I.I"
   ]
  },
  {
   "cell_type": "code",
   "execution_count": 13,
   "metadata": {
    "collapsed": false
   },
   "outputs": [],
   "source": [
    "import os\n",
    "path = 'output'\n",
    "files = ['/'.join(['output', i]) for i in os.listdir(path) if os.path.isfile(os.path.join(path,i)) and \\\n",
    "         'test_real' in i]"
   ]
  },
  {
   "cell_type": "code",
   "execution_count": 14,
   "metadata": {
    "collapsed": false
   },
   "outputs": [
    {
     "name": "stdout",
     "output_type": "stream",
     "text": [
      "facies_real00000 facies_real00001 facies_real00002 facies_real00003 facies_real00004 facies_real00005 facies_real00006 facies_real00007 facies_real00008 facies_real00009 facies_real00010 facies_real00011 facies_real00012 facies_real00013 facies_real00014 facies_real00015 facies_real00016 facies_real00017 facies_real00018 facies_real00019 facies_real00020 facies_real00021 facies_real00022 facies_real00023 facies_real00024 facies_real00025 facies_real00026 facies_real00027 facies_real00028 facies_real00029 facies_real00030 facies_real00031 facies_real00032 facies_real00033 facies_real00034 facies_real00035 facies_real00036 facies_real00037 facies_real00038 facies_real00039 facies_real00040 facies_real00041 facies_real00042 facies_real00043 facies_real00044 facies_real00045 facies_real00046 facies_real00047 facies_real00048 facies_real00049 facies_real00050 facies_real00051 facies_real00052 facies_real00053 facies_real00054 facies_real00055 facies_real00056 facies_real00057 facies_real00058 facies_real00059 facies_real00060 facies_real00061 facies_real00062 facies_real00063 facies_real00064 facies_real00065 facies_real00066 facies_real00067 facies_real00068 facies_real00069 facies_real00070 facies_real00071 facies_real00072 facies_real00073 facies_real00074 facies_real00075 facies_real00076 facies_real00077 facies_real00078 facies_real00079 facies_real00080 facies_real00081 facies_real00082 facies_real00083 facies_real00084 facies_real00085 facies_real00086 facies_real00087 facies_real00088 facies_real00089 facies_real00090 facies_real00091 facies_real00092 facies_real00093 facies_real00094 facies_real00095 facies_real00096 facies_real00097 facies_real00098 facies_real00099\n"
     ]
    }
   ],
   "source": [
    "testfiles = []\n",
    "for testfile in files:\n",
    "    test,  _, _ = openfile(testfile)\n",
    "    testfiles.append(test[:nx, :ny])"
   ]
  },
  {
   "cell_type": "code",
   "execution_count": 15,
   "metadata": {
    "collapsed": false
   },
   "outputs": [
    {
     "name": "stdout",
     "output_type": "stream",
     "text": [
      "Time elapsed 16.45s\n"
     ]
    }
   ],
   "source": [
    "\n",
    "start_time = time.time()\n",
    "Gs = []\n",
    "count = []\n",
    "for testfile in testfiles:   \n",
    "    g = G(testfile[:nx, :ny], w)\n",
    "#     print \"Getis and Ord’s G : {0:.4f}, (z_sim={1:.4f}, p_z_sim={2:.4f}) \".format( g.G,\n",
    "#                 g.z_sim, g.p_sim)\n",
    "    Gs.append(g.G)\n",
    "    \n",
    "    count.append(np.sum(testfile[:nx, :ny]))\n",
    "print \"Time elapsed {0:.2f}s\".format(time.time() - start_time)"
   ]
  },
  {
   "cell_type": "code",
   "execution_count": 16,
   "metadata": {
    "collapsed": false
   },
   "outputs": [
    {
     "name": "stdout",
     "output_type": "stream",
     "text": [
      "Time elapsed 13.86s\n"
     ]
    }
   ],
   "source": [
    "start_time = time.time()\n",
    "Is = []\n",
    "count = []\n",
    "for testfile in testfiles:   \n",
    "    \n",
    "    I = Moran(testfile[:nx, :ny], w)\n",
    "#     print \"Moran's I: {0:.4f}, (z_sim={1:.4f}, p_z_sim={2:.4f}) \".format( I.I,\n",
    "#                 I.z_sim, I.p_sim)\n",
    "    Is.append(I.I)\n",
    "    \n",
    "    count.append(np.sum(testfile[:nx, :ny]))\n",
    "print \"Time elapsed {0:.2f}s\".format(time.time() - start_time)"
   ]
  },
  {
   "cell_type": "code",
   "execution_count": 18,
   "metadata": {
    "collapsed": false
   },
   "outputs": [
    {
     "data": {
      "image/png": "[encoded data removed]",
      "text/plain": [
       "<matplotlib.figure.Figure at 0x11bf69090>"
      ]
     },
     "metadata": {},
     "output_type": "display_data"
    }
   ],
   "source": [
    "fig = plt.figure()\n",
    "plt.hist(Is, 20, alpha = .5)\n",
    "plt.title('Moran\\'s I  (nx = {1}) \\n training images I = {0:.3} '\n",
    "          .format(Ii, nx), fontsize = 11)\n",
    "plt.axvline(x=Ii, color='r', linestyle='-')\n",
    "printstr = 'I nx={1}; n={0}.pdf'.format(len(Is), nx)\n",
    "fig.savefig('conserved/{0}'.format(printstr))"
   ]
  },
  {
   "cell_type": "code",
   "execution_count": 20,
   "metadata": {
    "collapsed": false
   },
   "outputs": [
    {
     "data": {
      "image/png": "[encoded data removed]",
      "text/plain": [
       "<matplotlib.figure.Figure at 0x11bf81a90>"
      ]
     },
     "metadata": {},
     "output_type": "display_data"
    }
   ],
   "source": [
    "fig = plt.figure()\n",
    "plt.hist(count, 20, alpha =0.5)\n",
    "plt.title('Count (nx = {1}) \\n training images count = {0} '\n",
    "          .format(np.sum(TI), nx), fontsize = 11)\n",
    "\n",
    "plt.axvline(x=np.sum(TI), color='r', linestyle='-')\n",
    "\n",
    "printstr = 'count nx={1}; n={0}.pdf'.format(len(count), nx)\n",
    "fig.savefig('conserved/{0}'.format(printstr))"
   ]
  },
  {
   "cell_type": "code",
   "execution_count": 61,
   "metadata": {
    "collapsed": false
   },
   "outputs": [
    {
     "data": {
      "image/png": "[encoded data removed]",
      "text/plain": [
       "<matplotlib.figure.Figure at 0x122c07e10>"
      ]
     },
     "metadata": {},
     "output_type": "display_data"
    }
   ],
   "source": [
    "fig = plt.figure()\n",
    "plt.hist(Gs, 20)\n",
    " \n",
    "plt.title('Getis and Ord\\'s G  (nx = {1}) \\n training images G = {0} '\n",
    "          .format(Gi, nx), fontsize = 11)\n",
    "\n",
    "printstr = 'G nx={1}; n={0}.pdf'.format(len(Gs), nx)\n",
    "fig.savefig('conserved/{0}'.format(printstr))"
   ]
  },
  {
   "cell_type": "code",
   "execution_count": 29,
   "metadata": {
    "collapsed": false,
    "scrolled": false
   },
   "outputs": [
    {
     "data": {
      "image/png": "[encoded data removed]",
      "text/plain": [
       "<matplotlib.figure.Figure at 0x11f716d90>"
      ]
     },
     "metadata": {},
     "output_type": "display_data"
    },
    {
     "data": {
      "image/png": "[encoded data removed]",
      "text/plain": [
       "<matplotlib.figure.Figure at 0x122f60a10>"
      ]
     },
     "metadata": {},
     "output_type": "display_data"
    },
    {
     "data": {
      "image/png": "[encoded data removed]",
      "text/plain": [
       "<matplotlib.figure.Figure at 0x12305f350>"
      ]
     },
     "metadata": {},
     "output_type": "display_data"
    }
   ],
   "source": [
    "for i, testfile in enumerate(testfiles[:6]):\n",
    "    if np.mod(i, 2) == 0:\n",
    "        fig = plt.figure(figsize = (9,4))\n",
    "        ax = fig.add_subplot(121)\n",
    "        plt.imshow(testfile, interpolation='none')\n",
    "    elif np.mod(i, 2) == 1:\n",
    "        ax = fig.add_subplot(122)\n",
    "        plt.imshow(testfile, interpolation='none')"
   ]
  },
  {
   "cell_type": "code",
   "execution_count": null,
   "metadata": {
    "collapsed": true,
    "scrolled": true
   },
   "outputs": [],
   "source": []
  }
 ],
 "metadata": {
  "anaconda-cloud": {},
  "kernelspec": {
   "display_name": "Python [conda root]",
   "language": "python",
   "name": "conda-root-py"
  },
  "language_info": {
   "codemirror_mode": {
    "name": "ipython",
    "version": 2
   },
   "file_extension": ".py",
   "mimetype": "text/x-python",
   "name": "python",
   "nbconvert_exporter": "python",
   "pygments_lexer": "ipython2",
   "version": "2.7.12"
  }
 },
 "nbformat": 4,
 "nbformat_minor": 1
}
