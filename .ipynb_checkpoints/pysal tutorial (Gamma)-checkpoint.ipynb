{
 "cells": [
  {
   "cell_type": "markdown",
   "metadata": {},
   "source": [
    "Introduction\n",
    "- Spatial autocorrelation : non-random pattern of attribute values over a set of spatial units. \n",
    "- Autocorrelation arises when the observed spatial pattern is different from what would be expected under a random process operating in space.\n",
    "\n",
    "- Global autocorrelation analysis involves the study of the entire map pattern and generally asks the question as to whether the pattern displays clustering or not. \n",
    "- Local autocorrelation, on the other hand, shifts the focus to explore within the global pattern to identify clusters or so called hot spots that may be either driving the overall clustering pattern, or that reflect heterogeneities that depart from global pattern.\n",
    "\n",
    "\n",
    "__ Gamma Index__ of spatial autocorrelation consists of the application of the principle behind a general cross-product statistic to measuring spatial autocorrelation. \n",
    "- The idea is to assess whether two similarity matrices for n objects, i.e., n by n matrices A and B measure the same type of similarity. This is reflected in a so-called Gamma Index $$\\Gamma = \\sum_i \\sum_j a_{ij}\\cdot b_{ij}$$\n",
    "\n",
    "The statistic consists of the sum over all cross-products of matching elements (i,j) in the two matrices.\n",
    "\n",
    "first similarity matrix :   a measure of attribute similarity.\n",
    "any reasonable measure of attribute similarity or dissimilarity, such as a cross-product, squared difference or absolute difference.\n",
    "\n",
    "\n",
    "second matrix : a measure of locational similarity. \n",
    "a spatial weight matrix. "
   ]
  },
  {
   "cell_type": "markdown",
   "metadata": {},
   "source": [
    "\n",
    "$$ \\Gamma = \\sum_i \\sum_j a_{ij}\\cdot w_{ij}$$\n",
    "\n",
    "where the $w_{ij}$ are the elements of the weights matrix and $a_{ij}$  are corresponding measures of attribute similarity.\n",
    "\n",
    "Inference for this statistic is based on a permutation approach in which the values are shuffled around among the locations and the statistic is recomputed each time. \n",
    "This creates a reference distribution for the statistic under the null hypothesis of spatial randomness. \n",
    "The observed statistic is then compared to this reference distribution and a pseudo-significance computed as\n",
    "$$p = (m + 1) / (n + 1)$$\n",
    "where $m$ is the  number of values from the reference distribution that are equal to or greater than the observed joint count and $n$ is the number of permutations."
   ]
  },
  {
   "cell_type": "markdown",
   "metadata": {},
   "source": [
    "The Gamma test is a two-sided test in the sense that both extremely high values (e.g., larger than any value in the reference distribution) and extremely low values (e.g., smaller than any value in the reference distribution) can be considered to be significant. \n",
    "\n",
    "Depending on how the measure of *attribute similarity* is defined, a high value will indicate positive or negative spatial autocorrelation, and vice versa. \n",
    "For example, for a cross-product measure of attribute similarity, high values indicate positive spatial autocorrelation and low values negative spatial autocorrelation. \n",
    "For a squared difference measure, it is the reverse.  \n",
    "This is similar to the interpretation of the Moran’s I statistic and Geary’s C statistic respectively.\n",
    "\n"
   ]
  },
  {
   "cell_type": "markdown",
   "metadata": {},
   "source": [
    "Many spatial autocorrelation test statistics can be shown to be _special cases of the Gamma index_. \n",
    "In most instances, the Gamma index is an _unstandardized_ version of the commonly used statistics. \n",
    "As such, the Gamma index is _scale dependent_, since no normalization is carried out \n",
    "(such as deviations from the mean or rescaling by the variance). \n",
    "Also, since the sum is over all the elements, the value of a Gamma statistic will grow with the sample size, everything else being the same.\n",
    "\n"
   ]
  },
  {
   "cell_type": "markdown",
   "metadata": {},
   "source": [
    "PySAL implements four forms of the Gamma index.\n",
    "Three of these are pre-specified and \n",
    "one allows the user to pass any function that computes a measure of attribute similarity.\n",
    "This function should take three parameters: the vector of observations, an index i and an index j.\n",
    "\n"
   ]
  },
  {
   "cell_type": "markdown",
   "metadata": {},
   "source": [
    "We will illustrate the Gamma index using the same small artificial example as we use for the _Join Count Statistics_ in order to illustrate the similarities and differences between them. \n",
    "\n",
    "The data consist of a regular 4 by 4 lattice with values of 0 in the top half and values of 1 in the bottom half. We start with the usual imports, and set the random seed to 12345 in order to be able to replicate the results of the permutation approach.\n",
    "\n"
   ]
  },
  {
   "cell_type": "code",
   "execution_count": 13,
   "metadata": {
    "collapsed": true
   },
   "outputs": [],
   "source": [
    "% matplotlib inline"
   ]
  },
  {
   "cell_type": "code",
   "execution_count": 3,
   "metadata": {
    "collapsed": false
   },
   "outputs": [],
   "source": [
    "import pysal\n",
    "import numpy as np\n",
    "import matplotlib.pylab as plt\n",
    "\n",
    "\n",
    "np.random.seed(12345)"
   ]
  },
  {
   "cell_type": "code",
   "execution_count": 23,
   "metadata": {
    "collapsed": false
   },
   "outputs": [],
   "source": [
    "w=pysal.lat2W(4,4)\n",
    "y=np.ones(16)\n",
    "y[0:8]=0\n"
   ]
  },
  {
   "cell_type": "code",
   "execution_count": 24,
   "metadata": {
    "collapsed": true
   },
   "outputs": [],
   "source": [
    " g = pysal.Gamma(y, w)"
   ]
  },
  {
   "cell_type": "code",
   "execution_count": 28,
   "metadata": {
    "collapsed": false
   },
   "outputs": [
    {
     "name": "stdout",
     "output_type": "stream",
     "text": [
      "20.0\n",
      "3.063\n",
      "0.002\n"
     ]
    }
   ],
   "source": [
    "print g.g\n",
    "print \"%.3f\"%g.g_z\n",
    "print  g.p_sim_g"
   ]
  },
  {
   "cell_type": "code",
   "execution_count": null,
   "metadata": {
    "collapsed": true
   },
   "outputs": [],
   "source": []
  }
 ],
 "metadata": {
  "anaconda-cloud": {},
  "kernelspec": {
   "display_name": "Python [conda root]",
   "language": "python",
   "name": "conda-root-py"
  },
  "language_info": {
   "codemirror_mode": {
    "name": "ipython",
    "version": 2
   },
   "file_extension": ".py",
   "mimetype": "text/x-python",
   "name": "python",
   "nbconvert_exporter": "python",
   "pygments_lexer": "ipython2",
   "version": "2.7.12"
  }
 },
 "nbformat": 4,
 "nbformat_minor": 1
}
